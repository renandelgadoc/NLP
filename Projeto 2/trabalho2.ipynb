{
 "cells": [
  {
   "cell_type": "code",
   "execution_count": 24,
   "metadata": {},
   "outputs": [],
   "source": [
    "with open(\"corpus_80.txt\", 'r') as f:\n",
    "  corpus = f.read()\n"
   ]
  },
  {
   "cell_type": "code",
   "execution_count": 41,
   "metadata": {},
   "outputs": [
    {
     "name": "stdout",
     "output_type": "stream",
     "text": [
      "The autoreload extension is already loaded. To reload it, use:\n",
      "  %reload_ext autoreload\n"
     ]
    }
   ],
   "source": [
    "%load_ext autoreload\n",
    "%autoreload 2\n",
    "import bigram_utils as bu;"
   ]
  },
  {
   "cell_type": "code",
   "execution_count": 37,
   "metadata": {},
   "outputs": [],
   "source": [
    "# Gera um dicionario com key = bigrama, value = probabilidade condicional, usando 80% do corpus\n",
    "probs = bu.generate_bigram(corpus)"
   ]
  },
  {
   "cell_type": "code",
   "execution_count": 42,
   "metadata": {},
   "outputs": [
    {
     "name": "stdout",
     "output_type": "stream",
     "text": [
      "Perplexity = 36.778046607849646\n"
     ]
    }
   ],
   "source": [
    "# Calcula perplexidade de acordo com a formula 3.17 do livro\n",
    "# usando os 20% restantes do corpus como teste\n",
    "print(\"Perplexity = \" + str(bu.perplexity(probs, test_text=\"corpus_20.txt\")))\n"
   ]
  },
  {
   "cell_type": "code",
   "execution_count": 44,
   "metadata": {},
   "outputs": [
    {
     "name": "stdout",
     "output_type": "stream",
     "text": [
      " - <|endoftext|> A API de Janeiro, as canções e que havia Ocidental e execução\n"
     ]
    }
   ],
   "source": [
    "# Gera um texto com n tokens a partir do token special <|endoftext|>\n",
    "# baseado na probabilidade condicional\n",
    "\n",
    "print(bu.generate_text(probs, num_of_tokens=20))"
   ]
  }
 ],
 "metadata": {
  "kernelspec": {
   "display_name": "venv",
   "language": "python",
   "name": "python3"
  },
  "language_info": {
   "codemirror_mode": {
    "name": "ipython",
    "version": 3
   },
   "file_extension": ".py",
   "mimetype": "text/x-python",
   "name": "python",
   "nbconvert_exporter": "python",
   "pygments_lexer": "ipython3",
   "version": "3.9.6"
  }
 },
 "nbformat": 4,
 "nbformat_minor": 2
}
