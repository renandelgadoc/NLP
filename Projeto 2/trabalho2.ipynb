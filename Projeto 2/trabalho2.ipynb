{
 "cells": [
  {
   "cell_type": "code",
   "execution_count": 1,
   "metadata": {},
   "outputs": [],
   "source": [
    "with open(\"corpus_80.txt\", 'r') as f:\n",
    "  corpus = f.read()\n"
   ]
  },
  {
   "cell_type": "code",
   "execution_count": 29,
   "metadata": {},
   "outputs": [
    {
     "name": "stdout",
     "output_type": "stream",
     "text": [
      "The autoreload extension is already loaded. To reload it, use:\n",
      "  %reload_ext autoreload\n"
     ]
    }
   ],
   "source": [
    "%load_ext autoreload\n",
    "%autoreload 2\n",
    "import bigram_utils as bu;"
   ]
  },
  {
   "cell_type": "code",
   "execution_count": 3,
   "metadata": {},
   "outputs": [],
   "source": [
    "# Gera um dicionario com key = bigrama, value = probabilidade condicional, usando 80% do corpus\n",
    "probs = bu.generate_bigram(corpus)"
   ]
  },
  {
   "cell_type": "code",
   "execution_count": 31,
   "metadata": {},
   "outputs": [
    {
     "name": "stdout",
     "output_type": "stream",
     "text": [
      "Perplexity = 122.45609303993508\n"
     ]
    }
   ],
   "source": [
    "# Calcula perplexidade de acordo com a formula 3.17 do livro\n",
    "# usando os 20% restantes do corpus como teste\n",
    "print(\"Perplexity = \" + str(bu.perplexity(probs, test_file=\"corpus_20.txt\")))\n"
   ]
  },
  {
   "cell_type": "code",
   "execution_count": 27,
   "metadata": {},
   "outputs": [
    {
     "name": "stdout",
     "output_type": "stream",
     "text": [
      "Rio de fev, que tenderão concluírem principalmente o clube desaborem os estados brasileira com seus empregião do país desenvolvimento Humor Kocs Categoria:Tan: \\\"GreenLight” deram atendimento para a região\n"
     ]
    }
   ],
   "source": [
    "# Gera um texto com n tokens a partir do token special <|endoftext|>\n",
    "# baseado na probabilidade condicional\n",
    "\n",
    "print(bu.generate_text(probs, num_of_tokens=50, first_token=\"Rio\"))"
   ]
  }
 ],
 "metadata": {
  "kernelspec": {
   "display_name": "venv",
   "language": "python",
   "name": "python3"
  },
  "language_info": {
   "codemirror_mode": {
    "name": "ipython",
    "version": 3
   },
   "file_extension": ".py",
   "mimetype": "text/x-python",
   "name": "python",
   "nbconvert_exporter": "python",
   "pygments_lexer": "ipython3",
   "version": "3.9.6"
  }
 },
 "nbformat": 4,
 "nbformat_minor": 2
}
