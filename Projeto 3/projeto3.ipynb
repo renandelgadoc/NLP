{
 "cells": [
  {
   "cell_type": "code",
   "execution_count": 9,
   "metadata": {},
   "outputs": [
    {
     "name": "stdout",
     "output_type": "stream",
     "text": [
      "The autoreload extension is already loaded. To reload it, use:\n",
      "  %reload_ext autoreload\n"
     ]
    }
   ],
   "source": [
    "import pandas as pd\n",
    "from sklearn.feature_extraction.text import CountVectorizer\n",
    "from sklearn.model_selection import train_test_split\n",
    "from sklearn.naive_bayes import MultinomialNB\n",
    "from sklearn.metrics import accuracy_score, f1_score\n",
    "import find_best_hyperparameters as fbh\n",
    "%load_ext autoreload\n",
    "%autoreload 2"
   ]
  },
  {
   "cell_type": "code",
   "execution_count": 23,
   "metadata": {},
   "outputs": [],
   "source": [
    "# Executar essa celula para utilizar o arquivo \"./Dmoz-Science.csv\"\n",
    "\n",
    "data = fbh.load_db(\"./Dmoz-Science.csv\")"
   ]
  },
  {
   "cell_type": "code",
   "execution_count": 17,
   "metadata": {},
   "outputs": [],
   "source": [
    "# Executar essa celula para utilizar o arquivo webkb-parsed.csv\n",
    "data = fbh.load_db(\"webkb-parsed.csv\")"
   ]
  },
  {
   "cell_type": "code",
   "execution_count": 24,
   "metadata": {},
   "outputs": [
    {
     "name": "stdout",
     "output_type": "stream",
     "text": [
      "\n",
      "Melhor alpha encontrado: 0.5 com acurácia de 0.7200\n",
      "\n",
      "   alpha  accuracy  f1_macro  f1_micro\n",
      "0    0.1  0.717500  0.711544  0.717500\n",
      "1    0.5  0.720000  0.716553  0.720000\n",
      "2    1.0  0.710833  0.709062  0.710833\n",
      "3    2.0  0.689167  0.689243  0.689167\n",
      "4    5.0  0.650000  0.649790  0.650000\n"
     ]
    }
   ],
   "source": [
    "\n",
    "hyperparams_df = fbh.greedy_search(data, [0.1, 0.5, 1.0, 2.0, 5.0])\n",
    "print(hyperparams_df)\n"
   ]
  },
  {
   "cell_type": "code",
   "execution_count": 25,
   "metadata": {},
   "outputs": [],
   "source": [
    "best_alpha_row = hyperparams_df.loc[hyperparams_df['accuracy'].idxmax()]\n",
    "best_alpha = best_alpha_row['alpha']\n",
    "\n",
    "vectorizer = CountVectorizer()\n",
    "X = vectorizer.fit_transform(data['text'])\n",
    "y = data['class']\n",
    "\n",
    "X_train, X_test, y_train, y_test = train_test_split(X, y, test_size=0.2, random_state=42)\n",
    "\n",
    "final_model = MultinomialNB(alpha=best_alpha)\n",
    "final_model.fit(X_train, y_train)\n",
    "\n",
    "y_pred = final_model.predict(X_test)\n",
    "\n",
    "final_accuracy = accuracy_score(y_test, y_pred)\n",
    "final_f1_macro = f1_score(y_test, y_pred, average='macro')\n",
    "final_f1_micro = f1_score(y_test, y_pred, average='micro')\n"
   ]
  },
  {
   "cell_type": "code",
   "execution_count": 26,
   "metadata": {},
   "outputs": [
    {
     "name": "stdout",
     "output_type": "stream",
     "text": [
      "\n",
      "Métricas no conjunto de teste:\n",
      "Acurácia: 0.7200\n",
      "F1 Score (Macro): 0.7166\n",
      "F1 Score (Micro): 0.7200\n",
      "\n",
      "Interpretação dos Resultados:\n",
      "O melhor hiperparâmetro encontrado foi alpha = 0.5, com base na maior acurácia no conjunto de validação.\n",
      "O modelo apresentou boa generalização no conjunto de teste, com métricas F1 Score (Macro e Micro) elevadas.\n",
      "Um valor de alpha menor tende a funcionar melhor para textos mais curtos ou com menos ruído nos dados, enquanto valores maiores suavizam os pesos.\n"
     ]
    }
   ],
   "source": [
    "\n",
    "print(\"\\nMétricas no conjunto de teste:\")\n",
    "print(f\"Acurácia: {final_accuracy:.4f}\")\n",
    "print(f\"F1 Score (Macro): {final_f1_macro:.4f}\")\n",
    "print(f\"F1 Score (Micro): {final_f1_micro:.4f}\")\n",
    "\n",
    "print(\"\\nInterpretação dos Resultados:\")\n",
    "print(f\"O melhor hiperparâmetro encontrado foi alpha = {best_alpha}, com base na maior acurácia no conjunto de validação.\")\n",
    "print(\"O modelo apresentou boa generalização no conjunto de teste, com métricas F1 Score (Macro e Micro) elevadas.\")\n",
    "print(\"Um valor de alpha menor tende a funcionar melhor para textos mais curtos ou com menos ruído nos dados, enquanto valores maiores suavizam os pesos.\")\n",
    "\n",
    "\n"
   ]
  },
  {
   "cell_type": "code",
   "execution_count": 27,
   "metadata": {},
   "outputs": [],
   "source": [
    "results_df = pd.DataFrame({\n",
    "    'file_name': data.loc[y_test.index, 'file_name'],\n",
    "    'text': data.loc[y_test.index, 'text'],\n",
    "    'true_class': y_test,\n",
    "    'predicted_class': y_pred\n",
    "})\n",
    "\n",
    "results_df.to_csv(\"./results.csv\", index=False)"
   ]
  }
 ],
 "metadata": {
  "kernelspec": {
   "display_name": "venv",
   "language": "python",
   "name": "python3"
  },
  "language_info": {
   "codemirror_mode": {
    "name": "ipython",
    "version": 3
   },
   "file_extension": ".py",
   "mimetype": "text/x-python",
   "name": "python",
   "nbconvert_exporter": "python",
   "pygments_lexer": "ipython3",
   "version": "3.9.6"
  }
 },
 "nbformat": 4,
 "nbformat_minor": 2
}
