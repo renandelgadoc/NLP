{
  "cells": [
    {
      "cell_type": "code",
      "execution_count": 4,
      "metadata": {
        "id": "QcSgYn57XX34",
        "colab": {
          "base_uri": "https://localhost:8080/"
        },
        "outputId": "7179faf5-9166-4f3e-8e71-9f218adb493e"
      },
      "outputs": [
        {
          "output_type": "stream",
          "name": "stdout",
          "text": [
            "The autoreload extension is already loaded. To reload it, use:\n",
            "  %reload_ext autoreload\n"
          ]
        }
      ],
      "source": [
        "%load_ext autoreload\n",
        "%autoreload 2\n",
        "import shutil\n",
        "import importlib\n",
        "import bpe_utils as bpe\n",
        "import os\n"
      ]
    },
    {
      "cell_type": "code",
      "execution_count": 5,
      "metadata": {
        "id": "TXUK0ywUVmTA"
      },
      "outputs": [],
      "source": [
        "corpus = \"\"\n",
        "file_path = \"./corpus.txt\"\n",
        "with open(file_path, 'r') as f:\n",
        "  corpus += f.read()"
      ]
    },
    {
      "cell_type": "code",
      "execution_count": 6,
      "metadata": {
        "colab": {
          "base_uri": "https://localhost:8080/"
        },
        "id": "TYa6Kp1it1_e",
        "outputId": "3b826ce7-4364-4fa2-eced-75c8a4668560"
      },
      "outputs": [
        {
          "output_type": "stream",
          "name": "stdout",
          "text": [
            "merging (111, 32) into a new token 256\n",
            "merging (97, 32) into a new token 257\n",
            "merging (101, 32) into a new token 258\n",
            "merging (115, 32) into a new token 259\n",
            "merging (44, 32) into a new token 260\n",
            "merging (100, 258) into a new token 261\n",
            "merging (101, 110) into a new token 262\n",
            "merging (109, 32) into a new token 263\n",
            "merging (111, 114) into a new token 264\n",
            "merging (101, 114) into a new token 265\n",
            "merging (97, 110) into a new token 266\n",
            "merging (97, 114) into a new token 267\n",
            "merging (101, 115) into a new token 268\n",
            "merging (99, 111) into a new token 269\n",
            "merging (46, 32) into a new token 270\n",
            "merging (100, 256) into a new token 271\n",
            "merging (111, 259) into a new token 272\n",
            "merging (105, 110) into a new token 273\n",
            "merging (97, 108) into a new token 274\n",
            "merging (97, 259) into a new token 275\n"
          ]
        }
      ],
      "source": [
        "merges = bpe.train(corpus)"
      ]
    },
    {
      "cell_type": "code",
      "execution_count": 7,
      "metadata": {
        "colab": {
          "base_uri": "https://localhost:8080/"
        },
        "id": "CviPIoU-t1_e",
        "outputId": "ce61281e-0f4b-4454-fbee-411234377b75"
      },
      "outputs": [
        {
          "output_type": "stream",
          "name": "stdout",
          "text": [
            "[123, 10, 32, 34, 105, 100, 34, 58, 32, 34]\n",
            "[167, 272, 258, 103, 114, 266, 100, 101, 259, 101]\n"
          ]
        }
      ],
      "source": [
        "tokens = bpe.encode(corpus, merges)\n",
        "print(tokens[:10])\n",
        "print(tokens[-10:])"
      ]
    },
    {
      "cell_type": "code",
      "execution_count": 8,
      "metadata": {
        "colab": {
          "base_uri": "https://localhost:8080/"
        },
        "id": "9J_7P8qat1_e",
        "outputId": "794d25a0-487d-4bc8-d1ca-00a53c8b1b07"
      },
      "outputs": [
        {
          "output_type": "stream",
          "name": "stdout",
          "text": [
            "['{', '\\n', ' ', '\"', 'i', 'd', '\"', ':', ' ', '\"']\n",
            "['�', 'os ', 'e ', 'g', 'r', 'an', 'd', 'e', 's ', 'e']\n"
          ]
        }
      ],
      "source": [
        "decoded_tokens = bpe.decode(tokens, merges)\n",
        "print(decoded_tokens[:10])\n",
        "print(decoded_tokens[-10:])\n"
      ]
    }
  ],
  "metadata": {
    "colab": {
      "provenance": []
    },
    "kernelspec": {
      "display_name": "venv",
      "language": "python",
      "name": "python3"
    },
    "language_info": {
      "codemirror_mode": {
        "name": "ipython",
        "version": 3
      },
      "file_extension": ".py",
      "mimetype": "text/x-python",
      "name": "python",
      "nbconvert_exporter": "python",
      "pygments_lexer": "ipython3",
      "version": "3.9.6"
    }
  },
  "nbformat": 4,
  "nbformat_minor": 0
}